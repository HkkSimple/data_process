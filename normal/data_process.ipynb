{
 "cells": [
  {
   "cell_type": "code",
   "execution_count": 1,
   "metadata": {},
   "outputs": [],
   "source": [
    "import numpy as np\n",
    "import shutil\n",
    "import os\n",
    "from tqdm import tqdm\n",
    "import cv2\n",
    "from glob import glob\n",
    "from sklearn.model_selection import train_test_split"
   ]
  },
  {
   "cell_type": "code",
   "execution_count": 9,
   "metadata": {},
   "outputs": [],
   "source": [
    "# move labeled file together\n",
    "\n",
    "root = '../../data/stall/'\n",
    "dirs = os.listdir(root)\n",
    "store = '../../data/images/'\n",
    "\n",
    "for rt, dr, file in os.walk(root):\n",
    "    if len(file) > 1:\n",
    "        xmlps = glob(os.path.join(rt, '*.xml'))\n",
    "        imgps = [p.replace('xml', 'jpg') for p in xmlps]\n",
    "        for xp, ip in tqdm(zip(xmlps, imgps)):\n",
    "            if not os.path.exists(xp) or not os.path.exists(ip):\n",
    "                print('path not exists.')\n",
    "                continue\n",
    "            else:                \n",
    "                shutil.copy(xp, store)\n",
    "                shutil.copy(ip, store)"
   ]
  },
  {
   "cell_type": "code",
   "execution_count": 11,
   "metadata": {},
   "outputs": [],
   "source": [
    "root = '../../data/stall'\n",
    "store = '../../data/stall'\n",
    "train = os.path.join(store, 'train')\n",
    "valid = os.path.join(store, 'valid')\n",
    "test = os.path.join(store, 'test')\n",
    "\n",
    "img_paths = glob(os.path.join(root, '*.jpg'))\n",
    "train_paths, valid_paths = train_test_split(img_paths, test_size=0.1, random_state=47)\n",
    "\n",
    "# def copy_labeled_file(imgp):\n",
    "#     xm\n",
    "    "
   ]
  },
  {
   "cell_type": "markdown",
   "metadata": {},
   "source": [
    "# 图片与标注文件配对"
   ]
  },
  {
   "cell_type": "code",
   "execution_count": 2,
   "metadata": {},
   "outputs": [],
   "source": [
    "# 在图片存在的情况下，标注文件不存在 则转移图片；反之亦然\n",
    "def move_img(imgp, txtp, error):\n",
    "    if os.path.exists(imgp) and not os.path.exists(txtp):\n",
    "        shutil.move(imgp, error)\n",
    "        \n",
    "def check_image_label(image_paths, label_root):        \n",
    "    for imgp in tqdm(image_paths):\n",
    "        name = os.path.basename(imgp)\n",
    "        txtp = os.path.join(label_root, name.replace('jpg', 'txt'))\n",
    "        move_img(imgp, txtp, error)"
   ]
  },
  {
   "cell_type": "code",
   "execution_count": 8,
   "metadata": {},
   "outputs": [
    {
     "name": "stderr",
     "output_type": "stream",
     "text": [
      "100%|██████████| 546/546 [00:00<00:00, 50749.92it/s]\n"
     ]
    }
   ],
   "source": [
    "label_root = '/mnt/data/street/tricycle/'\n",
    "image_root = '/mnt/data/street/tricycle/'\n",
    "error = '/mnt/data/street/error/tricycle/'\n",
    "\n",
    "# coco\n",
    "# train_image_paths = glob(os.path.join(image_root, 'train2017/', '*.jpg'))\n",
    "# val_image_paths = glob(os.path.join(image_root, 'val2017/', '*.jpg'))\n",
    "# check_image_label(train_image_paths, os.path.join(label_root, 'train2017'))\n",
    "\n",
    "# street\n",
    "image_paths = glob(os.path.join(image_root, '*.jpg'))\n",
    "\n",
    "check_image_label(image_paths, label_root)\n"
   ]
  },
  {
   "cell_type": "markdown",
   "metadata": {},
   "source": [
    "## 重命名爬取的数据并移动到相应位置"
   ]
  },
  {
   "cell_type": "code",
   "execution_count": 2,
   "metadata": {},
   "outputs": [],
   "source": [
    "img_paths = glob('/mnt/data/street/motor/*.jpg') + \\\n",
    "            glob('/mnt/data/street/shop/*.jpg') + \\\n",
    "            glob('/mnt/data/street/trashbin/*.jpg') + \\\n",
    "            glob('/mnt/data/street/tricycle/*.jpg')"
   ]
  },
  {
   "cell_type": "code",
   "execution_count": 3,
   "metadata": {},
   "outputs": [],
   "source": [
    "train_img_paths, val_img_paths = train_test_split(img_paths, test_size=0.1, random_state=47)\n",
    "train_txt_paths = [p.replace('jpg', 'txt') for p in train_img_paths]\n",
    "val_txt_paths   = [p.replace('jpg', 'txt') for p in val_img_paths]"
   ]
  },
  {
   "cell_type": "code",
   "execution_count": 7,
   "metadata": {},
   "outputs": [],
   "source": [
    "for p in val_txt_paths:\n",
    "    shutil.copy(p, '/mnt/data/street_sub/labels/val/')"
   ]
  },
  {
   "cell_type": "code",
   "execution_count": 17,
   "metadata": {},
   "outputs": [],
   "source": [
    "# for i, imgp in enumerate(img_paths):\n",
    "#     txtp = imgp.replace('jpg', 'txt')\n",
    "#     xmlp = imgp.replace('jpg', 'xml')\n",
    "#     root = os.path.dirname(imgp)\n",
    "    \n",
    "#     new_profix =  'rz_' + str(i)    \n",
    "#     new_img_name = new_profix + '.jpg'\n",
    "#     new_img_path = os.path.join(root, new_img_name)\n",
    "#     new_txt_path = new_img_path.replace('jpg', 'txt')\n",
    "#     new_xml_path = new_img_path.replace('jpg', 'xml')\n",
    "#     os.rename(imgp, os.path.join(root, new_img_path))\n",
    "#     os.rename(txtp, os.path.join(root, new_txt_path))\n",
    "#     os.rename(xmlp, os.path.join(root, new_xml_path))"
   ]
  }
 ],
 "metadata": {
  "kernelspec": {
   "display_name": "Python 3",
   "language": "python",
   "name": "python3"
  },
  "language_info": {
   "codemirror_mode": {
    "name": "ipython",
    "version": 3
   },
   "file_extension": ".py",
   "mimetype": "text/x-python",
   "name": "python",
   "nbconvert_exporter": "python",
   "pygments_lexer": "ipython3",
   "version": "3.8.5"
  }
 },
 "nbformat": 4,
 "nbformat_minor": 4
}
