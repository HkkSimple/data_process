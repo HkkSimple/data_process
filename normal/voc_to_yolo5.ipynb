{
 "cells": [
  {
   "cell_type": "code",
   "execution_count": 1,
   "metadata": {},
   "outputs": [],
   "source": [
    "import json\n",
    "import os\n",
    "import numpy as np\n",
    "from tqdm import tqdm\n",
    "import shutil\n",
    "import cv2\n",
    "from xml.etree import cElementTree as ET\n",
    "from glob import glob"
   ]
  },
  {
   "cell_type": "code",
   "execution_count": 18,
   "metadata": {},
   "outputs": [],
   "source": [
    "def extract_voc(xmlp, default_class_name=None):\n",
    "    if not os.path.exists(xmlp):\n",
    "        print('{} file is not exists.'.format(xmlp))\n",
    "        return \n",
    "    with open(xmlp) as f:\n",
    "        tree = ET.parse(f)\n",
    "        root = tree.getroot()\n",
    "    lines = []\n",
    "    objects = root.findall('object')\n",
    "    if len(objects) >0:\n",
    "        for obj in objects:\n",
    "            name = obj.find('name').text #class name\n",
    "            if default_class_name is not None:\n",
    "                name = default_class_name\n",
    "            bnd = obj.find('bndbox')\n",
    "            xmin = bnd.find('xmin').text\n",
    "            ymin = bnd.find('ymin').text\n",
    "            xmax = bnd.find('xmax').text\n",
    "            ymax = bnd.find('ymax').text\n",
    "            line = name + '\\t' + ','.join(map(str, [xmin, ymin, xmax, ymax]))\n",
    "            lines.append(line)\n",
    "        return lines\n",
    "    return \n",
    "\n",
    "# Truncates numbers to N decimals\n",
    "def truncate(n, decimals=0):\n",
    "    multiplier = 10 ** decimals\n",
    "    return int(n * multiplier) / multiplier\n",
    "\n",
    "def get_dataset_categorys(xml_paths):\n",
    "    categorys = []\n",
    "    for xmlp in xml_paths:\n",
    "        voc = extract_voc(xmlp)\n",
    "        if voc is not None:\n",
    "            for line in voc:\n",
    "                name, loc = line.split('\\t')\n",
    "                categorys.append(name)\n",
    "    return list(set(categorys))\n",
    "\n",
    "def yolo_format(line, imgH, imgW):\n",
    "    name, loc = line.split('\\t')\n",
    "    xmin, ymin, xmax, ymax = map(int, loc.split(','))\n",
    "    dw, dh = 1. / imgW, 1 / imgH\n",
    "    x = (xmin + xmax)/2\n",
    "    y = (ymin + ymax)/2\n",
    "    w = xmax - xmin\n",
    "    h = ymax - ymin\n",
    "#     print('x:', x, ' ', 'y:', y, ' ', 'w:', dw, 'h:', dh, 'imgW:', imgW, ' ', 'imgH:', imgH)\n",
    "    x = x * dw\n",
    "    w = w * dw\n",
    "    y = y * dh\n",
    "    h = h * dh\n",
    "    new_line = ' '.join([name, \n",
    "                 str(truncate(x, 7)), \n",
    "                 str(truncate(y, 7)), \n",
    "                 str(truncate(w, 7)), \n",
    "                 str(truncate(h, 7))])\n",
    "        \n",
    "    return new_line\n",
    "\n",
    "def voc2yolo(xml_paths, class_idxs, img_store, txt_store, error, default_class_name=None, exclude_class=[]):\n",
    "    if not os.path.exists(img_store):\n",
    "        os.makedirs(img_store)\n",
    "    if not os.path.exists(txt_store):\n",
    "        os.makedirs(txt_store)\n",
    "        \n",
    "    for xmlp in tqdm(xml_paths):\n",
    "#         try:\n",
    "        imgp = xmlp.replace('xml', 'jpg')\n",
    "        img = cv2.imread(imgp)\n",
    "        if img is None:\n",
    "            print(xmlp)\n",
    "            print(imgp)\n",
    "            continue\n",
    "        imgH, imgW = img.shape[:2]\n",
    "        name = os.path.basename(xmlp)\n",
    "        txt_store_path = os.path.join(txt_store, name.replace('xml', 'txt')) #txt file store path\n",
    "        img_store_path = os.path.join(img_store, name.replace('xml', 'jpg')) #image file store path\n",
    "        voc = extract_voc(xmlp, default_class_name)\n",
    "        new_lines = []\n",
    "        if voc is not None:\n",
    "            for line in voc:\n",
    "\n",
    "                name, loc = line.split('\\t')\n",
    "                loc = [str(int(lc)) for lc in map(float, loc.split(','))]\n",
    "                loc = ','.join(loc)\n",
    "                if name in exclude_class:\n",
    "                    continue\n",
    "                idx = class_idxs.get(name, None)\n",
    "                if idx is None:\n",
    "                    continue\n",
    "                line = str(idx) + '\\t' + loc\n",
    "                new_line = yolo_format(line, imgH, imgW)\n",
    "                new_lines.append(new_line)\n",
    "            if len(new_lines) >0:\n",
    "                with open(txt_store_path, 'w') as f:\n",
    "                    f.write('\\n'.join(new_lines))\n",
    "                cv2.imwrite(img_store_path, img)\n",
    "#             else:\n",
    "#                 shutil.move(xmlp, error)\n",
    "#                 shutil.move(imgp, error)\n",
    "#         else:\n",
    "#             shutil.move(xmlp, error)\n",
    "#             shutil.move(imgp, error)\n",
    "#         except:\n",
    "#                 shutil.move(xmlp, error)\n",
    "#                 shutil.move(imgp, error)\n",
    "#                 continue"
   ]
  },
  {
   "cell_type": "code",
   "execution_count": 6,
   "metadata": {},
   "outputs": [],
   "source": [
    "# class_names = ['person', 'bicycle', 'car', 'motorcycle', 'airplane', 'bus', 'train', 'truck', 'boat', 'traffic light',\n",
    "#         'fire hydrant', 'stop sign', 'parking meter', 'bench', 'bird', 'cat', 'dog', 'horse', 'sheep', 'cow',\n",
    "#         'elephant', 'bear', 'zebra', 'giraffe', 'backpack', 'umbrella', 'handbag', 'tie', 'suitcase', 'frisbee',\n",
    "#         'skis', 'snowboard', 'sports ball', 'kite', 'baseball bat', 'baseball glove', 'skateboard', 'surfboard',\n",
    "#         'tennis racket', 'bottle', 'wine glass', 'cup', 'fork', 'knife', 'spoon', 'bowl', 'banana', 'apple',\n",
    "#         'sandwich', 'orange', 'broccoli', 'carrot', 'hot dog', 'pizza', 'donut', 'cake', 'chair', 'couch',\n",
    "#         'potted plant', 'bed', 'dining table', 'toilet', 'tv', 'laptop', 'mouse', 'remote', 'keyboard', \n",
    "#         'cell phone', 'microwave', 'oven', 'toaster', 'sink', 'refrigerator', 'book', 'clock', 'vase', 'scissors', \n",
    "#         'teddy bear', 'hair drier', 'toothbrush', 'shop']\n",
    "# class_names = ['bicycle','car', 'motor', 'bus', 'truck', 'trashbin', 'tricycle', 'shop']\n",
    "# class_names = ['motor', 'trashbin', 'tricycle', 'shop']\n",
    "class_names = ['construction_trash_dump','domestic_trash_dump',\n",
    "               'domestic_trash','trash_can_uncovered',\n",
    "               'trash_can_overflow','construction_trash',\n",
    "               'trash_can_fall','trash_can']\n",
    "class_idxs = {name:idx for idx, name in enumerate(class_names)}"
   ]
  },
  {
   "cell_type": "code",
   "execution_count": 4,
   "metadata": {},
   "outputs": [
    {
     "data": {
      "text/plain": [
       "['battery_car',\n",
       " 'motorcycle',\n",
       " 'construction_trash_dump',\n",
       " 'bus',\n",
       " 'mobile_stall',\n",
       " 'domestic_trash_dump',\n",
       " 'domestic_trash',\n",
       " 'trash_can_uncovered',\n",
       " 'trash_can_overflow',\n",
       " 'bulldozer',\n",
       " 'car',\n",
       " 'cow',\n",
       " 'dog',\n",
       " 'construction_trash',\n",
       " 'dredger',\n",
       " 'trash_can_fall',\n",
       " 'tricycle',\n",
       " 'truck',\n",
       " 'fixed_stall',\n",
       " 'bear',\n",
       " 'trash_can']"
      ]
     },
     "execution_count": 4,
     "metadata": {},
     "output_type": "execute_result"
    }
   ],
   "source": [
    "xml_paths = glob('../chengguan/trash_can/pachong/org_anno/*.xml')\n",
    "get_dataset_categorys(xml_paths)"
   ]
  },
  {
   "cell_type": "code",
   "execution_count": 19,
   "metadata": {},
   "outputs": [
    {
     "name": "stderr",
     "output_type": "stream",
     "text": [
      " 25%|██▌       | 1462/5805 [00:05<00:16, 268.57it/s]"
     ]
    },
    {
     "name": "stdout",
     "output_type": "stream",
     "text": [
      "../chengguan/trash_can/pachong/org/67.xml\n",
      "../chengguan/trash_can/pachong/org/67.jpg\n"
     ]
    },
    {
     "name": "stderr",
     "output_type": "stream",
     "text": [
      " 59%|█████▉    | 3428/5805 [00:13<00:09, 240.45it/s]"
     ]
    },
    {
     "name": "stdout",
     "output_type": "stream",
     "text": [
      "../chengguan/trash_can/pachong/org/917.xml\n",
      "../chengguan/trash_can/pachong/org/917.jpg\n"
     ]
    },
    {
     "name": "stderr",
     "output_type": "stream",
     "text": [
      " 88%|████████▊ | 5087/5805 [00:21<00:03, 217.89it/s]"
     ]
    },
    {
     "name": "stdout",
     "output_type": "stream",
     "text": [
      "../chengguan/trash_can/pachong/org/810.xml\n",
      "../chengguan/trash_can/pachong/org/810.jpg\n"
     ]
    },
    {
     "name": "stderr",
     "output_type": "stream",
     "text": [
      "100%|██████████| 5805/5805 [00:24<00:00, 238.40it/s]\n"
     ]
    }
   ],
   "source": [
    "xml_paths = glob('../chengguan/trash_can/pachong/org/*.xml')\n",
    "\n",
    "img_store = '../chengguan/trash_can/pachong/images/train'\n",
    "txt_store = '../chengguan/trash_can/pachong/labels/train'\n",
    "error = '../chengguan/trash_can/pachong/error/'\n",
    "\n",
    "voc2yolo(xml_paths, class_idxs, img_store, txt_store, error, exclude_class=['battery_car',\n",
    " 'motorcycle',\n",
    " 'bus',\n",
    " 'mobile_stall',\n",
    " 'bulldozer',\n",
    " 'car',\n",
    " 'cow',\n",
    " 'dog',\n",
    " 'dredger',\n",
    " 'tricycle',\n",
    " 'truck',\n",
    " 'fixed_stall',\n",
    " 'bear'])"
   ]
  },
  {
   "cell_type": "code",
   "execution_count": 6,
   "metadata": {},
   "outputs": [
    {
     "name": "stderr",
     "output_type": "stream",
     "text": [
      "100%|██████████| 3190/3190 [00:25<00:00, 126.19it/s]\n"
     ]
    }
   ],
   "source": [
    "# xml_paths = glob('/mnt/data/street/trashbin/*.xml') + \\\n",
    "#             glob('/mnt/data/street/motor/*.xml') + \\\n",
    "#             glob('/mnt/data/street/tricycle/*.xml') + \\\n",
    "#             glob('/mnt/data/street/shop/*.xml') + \\\n",
    "#             glob('/mnt/data/street/true_camera/*.xml')\n",
    "\n",
    "# img_store = '/mnt/data/street_rz_4class/train/images'\n",
    "# txt_store = '/mnt/data/street_rz_4class/train/labels'\n",
    "# error = '/mnt/data/street/error/'\n",
    "\n",
    "# voc2yolo(xml_paths, class_idxs, img_store, txt_store, error, exclude_class=['bicycle','car', 'bus', 'truck'])"
   ]
  }
 ],
 "metadata": {
  "kernelspec": {
   "display_name": "Python 3",
   "language": "python",
   "name": "python3"
  },
  "language_info": {
   "codemirror_mode": {
    "name": "ipython",
    "version": 3
   },
   "file_extension": ".py",
   "mimetype": "text/x-python",
   "name": "python",
   "nbconvert_exporter": "python",
   "pygments_lexer": "ipython3",
   "version": "3.7.3"
  }
 },
 "nbformat": 4,
 "nbformat_minor": 4
}
