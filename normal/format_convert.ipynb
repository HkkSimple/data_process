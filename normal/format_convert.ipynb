{
 "cells": [
  {
   "cell_type": "markdown",
   "metadata": {},
   "source": [
    "# coco format to yolo5 format"
   ]
  },
  {
   "cell_type": "code",
   "execution_count": 1,
   "metadata": {},
   "outputs": [],
   "source": [
    "import json\n",
    "import os\n",
    "import numpy as np\n",
    "from tqdm import tqdm\n",
    "import shutil\n",
    "import cv2"
   ]
  },
  {
   "cell_type": "code",
   "execution_count": 2,
   "metadata": {},
   "outputs": [],
   "source": [
    "def get_img_shape(path):\n",
    "    img = cv2.imread(path)\n",
    "    try:\n",
    "        return img.shape\n",
    "    except AttributeError:\n",
    "        print('error!', path)\n",
    "        return (None, None, None)\n",
    "    \n",
    "def convert_labels(path, x1, y1, x2, y2):\n",
    "    \"\"\"\n",
    "    Definition: Parses label files to extract label and bounding box\n",
    "    coordinates. Converts (x1, y1, x1, y2) KITTI format to\n",
    "    (x, y, width, height) normalized YOLO format.\n",
    "    \"\"\"\n",
    "    def sorting(l1, l2):\n",
    "        if l1 > l2:\n",
    "            lmax, lmin = l1, l2\n",
    "            return lmax, lmin\n",
    "        else:\n",
    "            lmax, lmin = l2, l1\n",
    "            return lmax, lmin\n",
    "    size = get_img_shape(path)\n",
    "    xmax, xmin = sorting(x1, x2)\n",
    "    ymax, ymin = sorting(y1, y2)\n",
    "    dw = 1./size[1]\n",
    "    dh = 1./size[0]\n",
    "    x = (xmin + xmax)/2.0\n",
    "    y = (ymin + ymax)/2.0\n",
    "    w = xmax - xmin\n",
    "    h = ymax - ymin\n",
    "    x = x*dw\n",
    "    w = w*dw\n",
    "    y = y*dh\n",
    "    h = h*dh\n",
    "    return (x,y,w,h)\n",
    "\n",
    "def generate_label(data, img_root, store_root):\n",
    "    check_set = set()\n",
    "    for i in tqdm(range(len(data['annotations']))):\n",
    "        image_id = str(data['annotations'][i]['image_id'])\n",
    "        category_id = str(data['annotations'][i]['category_id'])\n",
    "        bbox = data['annotations'][i]['bbox']\n",
    "        \n",
    "        image_name = '0'*(12-len(image_id)) + image_id + \".jpg\"\n",
    "        image_path = os.path.join(img_root, image_name)\n",
    "        kitti_bbox = [bbox[0], bbox[1], bbox[2] + bbox[0], bbox[3] + bbox[1]]\n",
    "        yolo_bbox = convert_labels(image_path, kitti_bbox[0], kitti_bbox[1], kitti_bbox[2], kitti_bbox[3])\n",
    "        filename = '0'*(12-len(image_id)) + image_id + \".txt\"\n",
    "        store_path = os.path.join(store_root, filename)\n",
    "        content = category_id + \" \" + str(yolo_bbox[0]) + \" \" + str(yolo_bbox[1]) + \" \" + str(yolo_bbox[2]) + \" \" + str(yolo_bbox[3])\n",
    "        if image_id in check_set:\n",
    "            # Append to file files\n",
    "            file = open(store_path, \"a\")\n",
    "            file.write(\"\\n\")\n",
    "            file.write(content)\n",
    "            file.close()\n",
    "        elif image_id not in check_set:\n",
    "            check_set.add(image_id)\n",
    "            # Write files\n",
    "            file = open(store_path, \"w\")\n",
    "            file.write(content)\n",
    "            file.close()"
   ]
  },
  {
   "cell_type": "code",
   "execution_count": 3,
   "metadata": {},
   "outputs": [],
   "source": [
    "train_anno_path = '/mnt/data/coco/labels/annotations/instances_train2017.json'\n",
    "val_anno_path = '/mnt/data/coco/labels/annotations/instances_val2017.json'\n",
    "with open(val_anno_path) as f:\n",
    "    val_ann_data = json.loads(f.read())\n",
    "    \n",
    "with open(train_anno_path) as f:\n",
    "    train_ann_data = json.loads(f.read())"
   ]
  },
  {
   "cell_type": "code",
   "execution_count": 4,
   "metadata": {},
   "outputs": [
    {
     "name": "stderr",
     "output_type": "stream",
     "text": [
      "100%|██████████| 36781/36781 [03:17<00:00, 185.84it/s]\n"
     ]
    }
   ],
   "source": [
    "generate_label(val_ann_data, \n",
    "               '/mnt/data/coco/images/val2017/', \n",
    "               '/mnt/data/coco/labels/val2017/')"
   ]
  },
  {
   "cell_type": "code",
   "execution_count": null,
   "metadata": {},
   "outputs": [
    {
     "name": "stderr",
     "output_type": "stream",
     "text": [
      " 31%|███       | 263594/860001 [23:49<53:42, 185.10it/s]  "
     ]
    }
   ],
   "source": [
    "generate_label(train_ann_data, '/mnt/data/coco/images/train2017/', '/mnt/data/coco/labels/train2017/')"
   ]
  }
 ],
 "metadata": {
  "kernelspec": {
   "display_name": "Python 3",
   "language": "python",
   "name": "python3"
  },
  "language_info": {
   "codemirror_mode": {
    "name": "ipython",
    "version": 3
   },
   "file_extension": ".py",
   "mimetype": "text/x-python",
   "name": "python",
   "nbconvert_exporter": "python",
   "pygments_lexer": "ipython3",
   "version": "3.8.5"
  }
 },
 "nbformat": 4,
 "nbformat_minor": 4
}
